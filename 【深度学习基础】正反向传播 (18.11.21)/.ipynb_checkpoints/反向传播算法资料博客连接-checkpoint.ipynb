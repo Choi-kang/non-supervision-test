{
 "cells": [
  {
   "cell_type": "markdown",
   "metadata": {},
   "source": [
    "[BP神经网络的数学原理及其算法实现](https://blog.csdn.net/zhongkejingwang/article/details/44514073 \"BP神经网络的数学原理及其算法实现\"). \n"
   ]
  },
  {
   "cell_type": "markdown",
   "metadata": {},
   "source": [
    "[神经网络之BP算法(图说神经网络+BP算法理论推导+例子运用+代码)](https://blog.csdn.net/weixin_39441762/article/details/80446692 \"神经网络之BP算法(图说神经网络+BP算法理论推导+例子运用+代码)\"). \n"
   ]
  }
 ],
 "metadata": {
  "kernelspec": {
   "display_name": "Python 3",
   "language": "python",
   "name": "python3"
  },
  "language_info": {
   "codemirror_mode": {
    "name": "ipython",
    "version": 3
   },
   "file_extension": ".py",
   "mimetype": "text/x-python",
   "name": "python",
   "nbconvert_exporter": "python",
   "pygments_lexer": "ipython3",
   "version": "3.7.3"
  }
 },
 "nbformat": 4,
 "nbformat_minor": 2
}
