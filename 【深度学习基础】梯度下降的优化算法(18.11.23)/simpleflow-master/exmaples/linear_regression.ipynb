{
 "cells": [
  {
   "cell_type": "code",
   "execution_count": 1,
   "metadata": {},
   "outputs": [],
   "source": [
    "import numpy as np\n",
    "import matplotlib.pyplot as plt"
   ]
  },
  {
   "cell_type": "markdown",
   "metadata": {},
   "source": [
    "# Generate training data"
   ]
  },
  {
   "cell_type": "code",
   "execution_count": 2,
   "metadata": {},
   "outputs": [],
   "source": [
    "input_x = np.linspace(-1, 1, 100)\n",
    "input_y = input_x*3 + np.random.randn(input_x.shape[0])*0.5"
   ]
  },
  {
   "cell_type": "markdown",
   "metadata": {},
   "source": [
    "## Create computational graph"
   ]
  },
  {
   "cell_type": "code",
   "execution_count": 3,
   "metadata": {},
   "outputs": [],
   "source": [
    "import simpleflow as sf"
   ]
  },
  {
   "cell_type": "code",
   "execution_count": 4,
   "metadata": {},
   "outputs": [],
   "source": [
    "# Placeholders for training data\n",
    "x = sf.Placeholder()\n",
    "y_ = sf.Placeholder()"
   ]
  },
  {
   "cell_type": "code",
   "execution_count": 5,
   "metadata": {},
   "outputs": [],
   "source": [
    "# Weigths\n",
    "w = sf.Variable([[1.0]], name='weight')\n",
    "\n",
    "# Threshold\n",
    "b = sf.Variable(0.0, name='threshold')"
   ]
  },
  {
   "cell_type": "code",
   "execution_count": 6,
   "metadata": {},
   "outputs": [],
   "source": [
    "# Predicted class by model\n",
    "y = x*w + b"
   ]
  },
  {
   "cell_type": "markdown",
   "metadata": {},
   "source": [
    "## Build loss"
   ]
  },
  {
   "cell_type": "code",
   "execution_count": 7,
   "metadata": {},
   "outputs": [],
   "source": [
    "loss = sf.reduce_sum(sf.square(y - y_))"
   ]
  },
  {
   "cell_type": "markdown",
   "metadata": {},
   "source": [
    "## Optimizer"
   ]
  },
  {
   "cell_type": "code",
   "execution_count": 8,
   "metadata": {},
   "outputs": [],
   "source": [
    "train_op = sf.GradientDescentOptimizer(learning_rate=0.005).minimize(loss)"
   ]
  },
  {
   "cell_type": "markdown",
   "metadata": {},
   "source": [
    "## Training"
   ]
  },
  {
   "cell_type": "code",
   "execution_count": 9,
   "metadata": {},
   "outputs": [
    {
     "name": "stdout",
     "output_type": "stream",
     "text": [
      "step: 0, loss: 147.31229301332186, mse: 1.4731229301332187\n",
      "step: 1, loss: 75.2862864776536, mse: 0.7528628647765361\n",
      "step: 2, loss: 44.009064387253, mse: 0.44009064387253\n",
      "step: 3, loss: 30.387486500361295, mse: 0.30387486500361294\n",
      "step: 4, loss: 24.455137917985002, mse: 0.24455137917985004\n",
      "step: 5, loss: 21.871534168474543, mse: 0.21871534168474543\n",
      "step: 6, loss: 20.746346017138585, mse: 0.20746346017138584\n",
      "step: 7, loss: 20.256314070038826, mse: 0.20256314070038825\n",
      "step: 8, loss: 20.042899710055327, mse: 0.20042899710055326\n",
      "step: 9, loss: 19.949955384044085, mse: 0.19949955384044085\n",
      "step: 10, loss: 19.90947709692998, mse: 0.19909477096929978\n",
      "step: 11, loss: 19.891848352949488, mse: 0.19891848352949487\n",
      "step: 12, loss: 19.884170838991114, mse: 0.19884170838991114\n",
      "step: 13, loss: 19.880827196321707, mse: 0.19880827196321707\n",
      "step: 14, loss: 19.879371002772437, mse: 0.19879371002772436\n",
      "step: 15, loss: 19.8787368142952, mse: 0.19878736814295198\n",
      "step: 16, loss: 19.878460618163945, mse: 0.19878460618163946\n",
      "step: 17, loss: 19.878340331678682, mse: 0.19878340331678682\n",
      "step: 18, loss: 19.878287945577295, mse: 0.19878287945577294\n",
      "step: 19, loss: 19.878265130847833, mse: 0.19878265130847833\n",
      "w: [[ 2.93373825]], b: 0.04568701269996128\n"
     ]
    }
   ],
   "source": [
    "feed_dict = {x: np.reshape(input_x, (-1, 1)), y_: np.reshape(input_y, (-1, 1))}\n",
    "feed_dict = {x: input_x, y_: input_y}\n",
    "with sf.Session() as sess:\n",
    "    for step in range(20):\n",
    "        loss_value = sess.run(loss, feed_dict=feed_dict)\n",
    "        mse = loss_value/len(input_x)\n",
    "        \n",
    "        if step % 1 == 0:\n",
    "            print('step: {}, loss: {}, mse: {}'.format(step, loss_value, mse))\n",
    "        sess.run(train_op, feed_dict)\n",
    "    w_value = sess.run(w, feed_dict=feed_dict)\n",
    "    b_value = sess.run(b, feed_dict=feed_dict)\n",
    "    print('w: {}, b: {}'.format(w_value, b_value))"
   ]
  },
  {
   "cell_type": "markdown",
   "metadata": {},
   "source": [
    "## Plot regression line"
   ]
  },
  {
   "cell_type": "code",
   "execution_count": 10,
   "metadata": {},
   "outputs": [
    {
     "data": {
      "image/png": "[encoded data removed]",
      "text/plain": [
       "<matplotlib.figure.Figure at 0x111ed5e80>"
      ]
     },
     "metadata": {},
     "output_type": "display_data"
    }
   ],
   "source": [
    "w_value = float(w_value)\n",
    "max_x, min_x = np.max(input_x), np.min(input_x)\n",
    "max_y, min_y = w_value*max_x + b_value, w_value*min_x + b_value\n",
    "\n",
    "plt.plot([max_x, min_x], [max_y, min_y], color='r')\n",
    "plt.scatter(input_x, input_y)\n",
    "plt.show()"
   ]
  }
 ],
 "metadata": {
  "kernelspec": {
   "display_name": "Python 3",
   "language": "python",
   "name": "python3"
  },
  "language_info": {
   "codemirror_mode": {
    "name": "ipython",
    "version": 3
   },
   "file_extension": ".py",
   "mimetype": "text/x-python",
   "name": "python",
   "nbconvert_exporter": "python",
   "pygments_lexer": "ipython3",
   "version": "3.5.3"
  }
 },
 "nbformat": 4,
 "nbformat_minor": 2
}
