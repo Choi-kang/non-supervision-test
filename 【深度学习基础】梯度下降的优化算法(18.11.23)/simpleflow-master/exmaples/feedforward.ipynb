{
 "cells": [
  {
   "cell_type": "markdown",
   "metadata": {},
   "source": [
    "# Computational Graph Construction"
   ]
  },
  {
   "cell_type": "code",
   "execution_count": 4,
   "metadata": {},
   "outputs": [],
   "source": [
    "import simpleflow as sf"
   ]
  },
  {
   "cell_type": "markdown",
   "metadata": {},
   "source": [
    "## Scalar addition"
   ]
  },
  {
   "cell_type": "code",
   "execution_count": 5,
   "metadata": {},
   "outputs": [
    {
     "name": "stdout",
     "output_type": "stream",
     "text": [
      "3.0\n"
     ]
    }
   ],
   "source": [
    "with sf.Graph().as_default():\n",
    "    a = sf.constant(1.0, name='a')\n",
    "    b = sf.constant(2.0, name='b')\n",
    "    result = a + b\n",
    "    \n",
    "    # Create a session to run the graph\n",
    "    with sf.Session() as sess:\n",
    "        print(sess.run(result))"
   ]
  },
  {
   "cell_type": "markdown",
   "metadata": {},
   "source": [
    "## Matrix multiplication"
   ]
  },
  {
   "cell_type": "code",
   "execution_count": 6,
   "metadata": {},
   "outputs": [
    {
     "name": "stdout",
     "output_type": "stream",
     "text": [
      "[ 29.  36.]\n"
     ]
    }
   ],
   "source": [
    "with sf.Graph().as_default():\n",
    "    a = sf.constant([[2.0, 2.0, 3.0], [3.0, 3.0, 3.0]], name='ma')\n",
    "    b = sf.constant([3.0, 4.0, 5.0], name='mb')\n",
    "    result = sf.matmul(a, b)\n",
    "    \n",
    "    with sf.Session() as sess:\n",
    "        print(sess.run(result))"
   ]
  }
 ],
 "metadata": {
  "kernelspec": {
   "display_name": "Python 3",
   "language": "python",
   "name": "python3"
  },
  "language_info": {
   "codemirror_mode": {
    "name": "ipython",
    "version": 3
   },
   "file_extension": ".py",
   "mimetype": "text/x-python",
   "name": "python",
   "nbconvert_exporter": "python",
   "pygments_lexer": "ipython3",
   "version": "3.5.3"
  }
 },
 "nbformat": 4,
 "nbformat_minor": 2
}
